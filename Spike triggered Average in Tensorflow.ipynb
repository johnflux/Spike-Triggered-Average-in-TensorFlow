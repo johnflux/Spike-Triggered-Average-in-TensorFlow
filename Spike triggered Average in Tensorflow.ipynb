{
 "cells": [
  {
   "cell_type": "markdown",
   "metadata": {},
   "source": [
    "# Spike Triggered Average in TensorFlow\n",
    "\n",
    "The data is an experimentally recorded set of spikes recorded from the famous H1 motion-sensitive neuron of the fly (Calliphora vicina) from the lab of Dr Robert de Ruyter van Steveninck.\n",
    "\n",
    "Here we use TensorFlow to find out how the neuron is reacting to the data, to see what causes the neuron to trigger."
   ]
  },
  {
   "cell_type": "code",
   "execution_count": 2,
   "metadata": {
    "collapsed": false
   },
   "outputs": [],
   "source": [
    "%matplotlib inline\n",
    "import pickle\n",
    "import matplotlib.pyplot as plt\n",
    "import numpy as np\n",
    "import tensorflow as tf\n",
    "sess = tf.InteractiveSession()\n",
    "\n",
    "FILENAME = 'data.pickle'\n",
    "\n",
    "with open(FILENAME, 'rb') as f:\n",
    "    data = pickle.load(f)\n",
    "\n",
    "stim = tf.constant(data['stim'])\n",
    "rho = tf.constant(data['rho'])\n",
    "sampling_period = 2 # The data was sampled at 500hz = 2ms\n",
    "window_size = 150 # Let's use a 300ms / sampling_period sliding window"
   ]
  },
  {
   "cell_type": "markdown",
   "metadata": {},
   "source": [
    "We now have our data loaded into tensorflow as a constant, which means that we can easily 'run' our tensorflow graph.  For example, let's examine stim and rho:"
   ]
  },
  {
   "cell_type": "code",
   "execution_count": 3,
   "metadata": {
    "collapsed": false
   },
   "outputs": [
    {
     "name": "stdout",
     "output_type": "stream",
     "text": [
      "Spike-train time-series = [0 0 0 ..., 0 0 0] \n",
      "Stimulus time-series    = [-111.94824219  -81.80664062   10.21972656 ...,    9.78515625   24.11132812\n",
      "   50.25390625]\n"
     ]
    }
   ],
   "source": [
    "print(\"Spike-train time-series =\", rho.eval(), \"\\nStimulus time-series    =\", stim.eval())"
   ]
  },
  {
   "cell_type": "markdown",
   "metadata": {},
   "source": [
    "rho is an binary array where a 1 indicates a spike.  Let's turn that into an array of indices of where the value is 1, but ignoring the first window_size elements.\n",
    "\n",
    "**Note:** We can use the [] and + operations on a tensorflow variable, and it correctly adds those operations to the graph.  This is equivalent to using  the tf.slice and tf.add operations."
   ]
  },
  {
   "cell_type": "code",
   "execution_count": 4,
   "metadata": {
    "collapsed": false
   },
   "outputs": [
    {
     "name": "stdout",
     "output_type": "stream",
     "text": [
      "Time indices where there is a spike:\n",
      " [[   158]\n",
      " [   160]\n",
      " [   162]\n",
      " ..., \n",
      " [599936]\n",
      " [599941]\n",
      " [599947]]\n"
     ]
    }
   ],
   "source": [
    "spike_times = tf.where(tf.not_equal(rho[window_size:-1], 0)) + window_size\n",
    "print(\"Time indices where there is a spike:\\n\", spike_times.eval())"
   ]
  },
  {
   "cell_type": "code",
   "execution_count": 5,
   "metadata": {
    "collapsed": false
   },
   "outputs": [
    {
     "name": "stdout",
     "output_type": "stream",
     "text": [
      "Spike triggered averaged is: [-0.33083048 -0.29083503 -0.23076012 -0.24636984 -0.10962767] (truncated)\n"
     ]
    }
   ],
   "source": [
    "def getStimWindow(index):\n",
    "    i = tf.cast(index, tf.int32)\n",
    "    return stim[i-window_size+1:i+1]\n",
    "stim_windows = tf.map_fn(lambda x: getStimWindow(x[0]), spike_times, dtype=tf.float64)\n",
    "spike_triggered_average = tf.reduce_mean(stim_windows, 0).eval()\n",
    "print(\"Spike triggered averaged is:\", spike_triggered_average[0:5], \"(truncated)\")"
   ]
  },
  {
   "cell_type": "markdown",
   "metadata": {},
   "source": [
    "Now let's plot this!"
   ]
  },
  {
   "cell_type": "code",
   "execution_count": 6,
   "metadata": {
    "collapsed": false
   },
   "outputs": [
    {
     "data": {
      "image/png": "[encoded data removed]",
      "text/plain": [
       "<matplotlib.figure.Figure at 0x7f4880ad4a58>"
      ]
     },
     "metadata": {},
     "output_type": "display_data"
    }
   ],
   "source": [
    "time = (np.arange(-window_size, 0) + 1) * sampling_period\n",
    "plt.plot(time, spike_triggered_average)\n",
    "plt.xlabel('Time (ms)')\n",
    "plt.ylabel('Stimulus')\n",
    "plt.title('Spike-Triggered Average')\n",
    "\n",
    "plt.show()"
   ]
  },
  {
   "cell_type": "markdown",
   "metadata": {},
   "source": [
    "It's...  **beautiful**!\n",
    "\n",
    "What we are looking at here, is that we've discovered that our neuron is doing a [leaky integration](https://en.wikipedia.org/wiki/Leaky_integrator) of the stimulus.  And when that integration adds up to a certain value, it triggers."
   ]
  }
 ],
 "metadata": {
  "kernelspec": {
   "display_name": "Python 3",
   "language": "python",
   "name": "python3"
  },
  "language_info": {
   "codemirror_mode": {
    "name": "ipython",
    "version": 3
   },
   "file_extension": ".py",
   "mimetype": "text/x-python",
   "name": "python",
   "nbconvert_exporter": "python",
   "pygments_lexer": "ipython3",
   "version": "3.5.2"
  }
 },
 "nbformat": 4,
 "nbformat_minor": 2
}
